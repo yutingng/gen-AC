{
 "cells": [
  {
   "cell_type": "markdown",
   "metadata": {},
   "source": [
    "### Datasets\n",
    "- see README_synthetic_datasets_phi_listing.ipynb\n",
    "- see README_realworld_datasets.ipynb"
   ]
  },
  {
   "cell_type": "markdown",
   "metadata": {},
   "source": [
    "### Training\n",
    "\n",
    "training gen-AC:\n",
    "1. Maximum likelihood estimation (MLE)\n",
    "2. Minimum distance estimation with Cramer-von-Mises (CvM)\n",
    "3. Adversarial training (GAN)\n",
    "\n",
    "should converge in 10k iterations\n",
    "\n",
    "sanity checks:\n",
    "- M>0\n",
    "- generator function in (0,1) since it is E_M[exp^{-Mx}], x in [0,infty)\n",
    "\n",
    "training gen-HAC:\n",
    "1. CvM on OuterGenerator then MLE on InnerGenerator\n",
    "2. Other training methods should work too\n",
    "3. Outer generators of different parameterizations (e.g. analytic/ gen-AC) can be used interchangeably, see README_HAC.ipynb"
   ]
  },
  {
   "cell_type": "raw",
   "metadata": {},
   "source": [
    "bibtex:\n",
    "\n",
    "@inproceedings{ng2021_genac,\n",
    " author={Yuting Ng and Ali Hasan and Khalil Elkhalil and Vahid Tarokh},\n",
    " booktitle = {UAI 2021 (Accepted)},\n",
    " title = {Generative Archimedean Copulas}, \n",
    " url = {https://arxiv.org/abs/2102.11351},\n",
    " year = {2021}\n",
    "}"
   ]
  },
  {
   "cell_type": "markdown",
   "metadata": {},
   "source": [
    "Additional Resources\n",
    "- MATLAB toolbox for Archimedean and hierarchical Archimedean copulas by Jan Górecki\n",
    "https://github.com/gorecki/HACopula\n",
    "- PyTorch code for ACNet by Chun Kai Ling https://github.com/lingchunkai/ACNet"
   ]
  }
 ],
 "metadata": {
  "kernelspec": {
   "display_name": "Python 3",
   "language": "python",
   "name": "python3"
  },
  "language_info": {
   "codemirror_mode": {
    "name": "ipython",
    "version": 3
   },
   "file_extension": ".py",
   "mimetype": "text/x-python",
   "name": "python",
   "nbconvert_exporter": "python",
   "pygments_lexer": "ipython3",
   "version": "3.8.3"
  }
 },
 "nbformat": 4,
 "nbformat_minor": 4
}
